{
 "cells": [
  {
   "cell_type": "code",
   "execution_count": 21,
   "metadata": {},
   "outputs": [
    {
     "name": "stdout",
     "output_type": "stream",
     "text": [
      "[*********************100%***********************]  1 of 1 completed\n"
     ]
    }
   ],
   "source": [
    "import yfinance as yf\n",
    "df = yf.download(\"AAPL\", period = \"10y\", interval='1d')"
   ]
  },
  {
   "cell_type": "code",
   "execution_count": 22,
   "metadata": {},
   "outputs": [
    {
     "name": "stdout",
     "output_type": "stream",
     "text": [
      "DatetimeIndex(['2013-05-01', '2013-07-05', '2013-07-19', '2013-10-22',\n",
      "               '2013-12-02', '2014-02-12', '2014-04-23', '2014-05-28',\n",
      "               '2014-07-02', '2014-08-26', '2014-09-03', '2014-10-27',\n",
      "               '2014-11-17', '2015-01-12', '2015-01-27', '2015-02-06',\n",
      "               '2015-02-19', '2015-04-28', '2015-07-21', '2015-08-11',\n",
      "               '2015-08-31', '2015-09-17', '2016-03-07', '2016-03-17',\n",
      "               '2016-04-15', '2016-05-27', '2016-07-05', '2016-07-13',\n",
      "               '2016-08-10', '2016-09-16', '2016-10-13', '2016-12-12',\n",
      "               '2016-12-22', '2017-01-12', '2017-02-10', '2017-03-02',\n",
      "               '2017-07-20', '2017-08-10', '2017-09-05', '2017-11-01',\n",
      "               '2017-11-09', '2018-02-16', '2018-04-18', '2018-05-11',\n",
      "               '2018-06-07', '2018-08-07', '2018-08-20', '2018-09-05',\n",
      "               '2018-10-04', '2019-01-22', '2019-02-07', '2019-02-28',\n",
      "               '2019-03-19', '2019-04-09', '2019-04-24', '2019-06-12',\n",
      "               '2019-08-22', '2019-10-29', '2019-11-12', '2019-12-18',\n",
      "               '2020-01-14', '2020-04-15', '2020-05-12', '2020-06-11',\n",
      "               '2020-08-07', '2020-08-25', '2020-12-03', '2021-01-27',\n",
      "               '2021-04-12', '2021-06-10', '2021-07-08', '2021-08-17',\n",
      "               '2021-09-08', '2021-09-27', '2021-10-22', '2021-11-26',\n",
      "               '2021-12-28', '2022-01-13', '2022-03-30', '2022-07-11',\n",
      "               '2023-01-12', '2023-01-25', '2023-02-06'],\n",
      "              dtype='datetime64[ns]', name='Date', freq=None)\n",
      "-0.010504334730592077\n"
     ]
    }
   ],
   "source": [
    "# assuming your data is stored in a pandas DataFrame called 'df'\n",
    "df.sort_values(by=['Date'] )\n",
    "\n",
    "# calculate the daily change in the opening price\n",
    "df['change'] = df['Adj Close'].diff()\n",
    "\n",
    "# create a boolean mask for days where the stock rose\n",
    "df['mask'] = df['change'] > 0\n",
    "\n",
    "# create a rolling window of the mask that looks back 4 days\n",
    "df['rolling_mask'] = df['mask'].rolling(window=4, min_periods=4).sum() >= 4\n",
    "\n",
    "# create a new column in the DataFrame to store the rolling mask\n",
    "df['4_or_more_day_rise'] = df['rolling_mask'].astype(int)\n",
    "\n",
    "# fill NaN values in the new column with 0\n",
    "\n",
    "\n",
    "# create a new column to identify the end of a rise period\n",
    "df['4_or_more_day_rise_shift'] = df['4_or_more_day_rise'].shift(1)\n",
    "df['4_or_more_day_rise_shift'].fillna(0, inplace=True)\n",
    "df[['4_or_more_day_rise','4_or_more_day_rise_shift']] = df[['4_or_more_day_rise','4_or_more_day_rise_shift']].astype(bool)\n",
    "df['end_of_rise'] = df['4_or_more_day_rise_shift'] & ~df['4_or_more_day_rise']\n",
    "\n",
    "# find the indexes of the first day where there was a 4 day rise or more\n",
    "indexes = df[df['end_of_rise'] == 1].index\n",
    "\n",
    "# print the indexes\n",
    "print(indexes)\n",
    "\n",
    "df['pct_change'] = df['Adj Close'].pct_change()\n",
    "print(df['pct_change'][indexes].mean())"
   ]
  }
 ],
 "metadata": {
  "kernelspec": {
   "display_name": "practicum",
   "language": "python",
   "name": "python3"
  },
  "language_info": {
   "codemirror_mode": {
    "name": "ipython",
    "version": 3
   },
   "file_extension": ".py",
   "mimetype": "text/x-python",
   "name": "python",
   "nbconvert_exporter": "python",
   "pygments_lexer": "ipython3",
   "version": "3.10.9"
  },
  "orig_nbformat": 4
 },
 "nbformat": 4,
 "nbformat_minor": 2
}
