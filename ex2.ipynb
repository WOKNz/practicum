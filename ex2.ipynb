{
 "cells": [
  {
   "cell_type": "code",
   "execution_count": 3,
   "metadata": {},
   "outputs": [
    {
     "ename": "ModuleNotFoundError",
     "evalue": "No module named 'pdftotext'",
     "output_type": "error",
     "traceback": [
      "\u001b[1;31m---------------------------------------------------------------------------\u001b[0m",
      "\u001b[1;31mModuleNotFoundError\u001b[0m                       Traceback (most recent call last)",
      "Cell \u001b[1;32mIn[3], line 1\u001b[0m\n\u001b[1;32m----> 1\u001b[0m \u001b[39mimport\u001b[39;00m \u001b[39mpdftotext\u001b[39;00m\n",
      "\u001b[1;31mModuleNotFoundError\u001b[0m: No module named 'pdftotext'"
     ]
    }
   ],
   "source": [
    "import pdftotext\n",
    "\n",
    "# Load your PDF\n",
    "with open(r'data\\ESG PDFs\\3M COMPANY\\2011\\GRI Report.pdf', \"rb\") as f:\n",
    "    pdf = pdftotext.PDF(f)\n",
    "\n",
    "# # If it's password-protected\n",
    "# with open(\"secure.pdf\", \"rb\") as f:\n",
    "#     pdf = pdftotext.PDF(f, \"secret\")\n",
    "\n",
    "# How many pages?\n",
    "print(len(pdf))\n",
    "\n",
    "# Iterate over all the pages\n",
    "for page in pdf:\n",
    "    print(page)\n",
    "\n",
    "# Read some individual pages\n",
    "print(pdf[0])\n",
    "print(pdf[1])\n",
    "\n",
    "# Read all the text into one string\n",
    "print(\"\\n\\n\".join(pdf))"
   ]
  }
 ],
 "metadata": {
  "kernelspec": {
   "display_name": "practicum",
   "language": "python",
   "name": "python3"
  },
  "language_info": {
   "codemirror_mode": {
    "name": "ipython",
    "version": 3
   },
   "file_extension": ".py",
   "mimetype": "text/x-python",
   "name": "python",
   "nbconvert_exporter": "python",
   "pygments_lexer": "ipython3",
   "version": "3.10.9"
  },
  "orig_nbformat": 4
 },
 "nbformat": 4,
 "nbformat_minor": 2
}
